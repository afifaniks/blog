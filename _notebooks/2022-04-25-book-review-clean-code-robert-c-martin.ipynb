{
 "cells": [
  {
   "cell_type": "markdown",
   "id": "866a6fd3",
   "metadata": {},
   "source": [
    "# Book Review on Clean Code by Robert C. Martin\n",
    "> A book review on the Clean Code by Robert C. Martin aka Uncle Bob\n",
    "\n",
    "- toc: true \n",
    "- badges: false\n",
    "- comments: true\n",
    "- categories: [\"book review\"]\n",
    "- image: images/clean_code.jpg"
   ]
  },
  {
   "cell_type": "markdown",
   "id": "11c6a11d",
   "metadata": {},
   "source": [
    "## Chapter 5: Formatting\n",
    "\n",
    "This chapter talks about code aesthetics. That is how your code should look on the screen. Robert tells us to follow a few things while writing codes to keep them neat. A few notable suggestions from this chapter are –\n",
    "\n",
    "-\tA source file should be kept small as much as possible. Ideally, it should not be **more than 200 lines** with a cap of 500 lines. However, it is not a hard and fast rule but desired.\n",
    "\n",
    "\n",
    "\n",
    "-\tHorizontally, lines should be small enough so that the reader does not have to scroll to read the line. Bob prefers **120 characters** limit per line.\n",
    "\n",
    "\n",
    "\n",
    "-\tA source file should be arranged as we read news in newspapers. The top most part should provide a high-level overview and details as we go downwards. For example, the class name should be enough to tell us if it is what we are looking for.\n",
    "\n",
    "\n",
    "\n",
    "-\tCodes should be grouped by their concepts. For example, a blank line between imports and the package name, or a blank line between variable declaration and a few operation statements on those variables.\n",
    "\n",
    "\n",
    "\n",
    "-\tVariables should be declared **close to their usage**. Local variables should appear at the start of a function. Similarly, it is advised to declare instance variables at the top of a class. For control variables, they should be inside the scope of their respective loops.\n",
    "\n",
    "\n",
    "\n",
    "-\tThe ordering of the functions/methods is important. It should be ordered in a downward direction. A function that is called should stay below the caller function unless the language requires it to be declared earlier (For example C, C++).\n",
    "\n",
    "\n",
    "\n",
    "-\tIndentation levels are really important for code readability and should be maintained. Even if the function or the scope is short, it is advised not to collapse scopes creating an exception to basic indentation.\n"
   ]
  },
  {
   "cell_type": "code",
   "execution_count": null,
   "id": "1770ec8b",
   "metadata": {},
   "outputs": [],
   "source": []
  }
 ],
 "metadata": {
  "kernelspec": {
   "display_name": "Python 3 (ipykernel)",
   "language": "python",
   "name": "python3"
  },
  "language_info": {
   "codemirror_mode": {
    "name": "ipython",
    "version": 3
   },
   "file_extension": ".py",
   "mimetype": "text/x-python",
   "name": "python",
   "nbconvert_exporter": "python",
   "pygments_lexer": "ipython3",
   "version": "3.9.7"
  }
 },
 "nbformat": 4,
 "nbformat_minor": 5
}
